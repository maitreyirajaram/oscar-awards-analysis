{
 "cells": [
  {
   "cell_type": "code",
   "execution_count": null,
   "metadata": {
    "collapsed": true,
    "jupyter": {
     "outputs_hidden": true
    }
   },
   "outputs": [],
   "source": []
  },
  {
   "cell_type": "markdown",
   "metadata": {},
   "source": [
    "# Analysis of Oscar Award Winning Movies\n",
    "\n",
    "We are aiming to conduct analyses on American films that have received recognition in the Oscars and Golden Globes. We would like to explore what categorizes a critically acclaimed/Oscar winning film through analysis of a winning film’s directing, ensemble, and audience reception. In response to popular opinions that award shows often nominate films that are not necessarily box-office hits (but rather lauded as high culture), we plan to analyze the correlation between beloved films rated by the public and award winning movies. We are interested in answering questions such as: Is there a difference between films that win Oscars and films that win Golden Globes? Do award winning films favor a certain demographic range for casting? What genres frequent award show nominations the most? Is there a veritable difference between female and male representation in acclaimed movies and if so do they conform to certain stereotypical roles? Are award winning movies only focused on a collection of niche topical themes? In engaging with this study, we hope to better understand how art is judged and the consequences of award nominations/wins on film viewership.\n",
    "\n",
    "In terms of data sources, we plan to gather basic information about all the movies we are studying from iMDB. This will include factors such as cast, genre, release date, directors, and writers. We will also consolidate this data with critics’ and audience reviews and ratings from Rotten Tomatoes. This will give us a holistic picture of the basic characteristics of the movie, as well as its reception with the general public and at awards shows. We are also planning to analyze the scripts of these movies, as found on iMDB, for more qualitative and subtle characteristics, such as the number and content of lines of characters based on their key demographic information. One such quality we will observe for movies is whether they pass the Bechdel Test, a popular metric for determining the significance of female characters in the film. The collection of this data will require using iMDB’s API, as well as web scraping and preprocessing the text from film script files. Towards the end of the project, we hope to employ machine learning to add a predictive element to our analyses, extrapolating our findings to predict the strength of a particular film’s reception. "
   ]
  },
  {
   "cell_type": "markdown",
   "metadata": {},
   "source": [
    "## Data Collection\n",
    "\n",
    "See **movie_analysis.py**.\n",
    "The universal IMDb movie id was used to identify films from varying sources. Example: Contagion (2011), IMDb id: tt1598778, IMDb url: www.imdb.com/title/tt1598778/\n",
    "\n",
    "Sources: \n",
    "1. **Pre-existing data sets from IMDb (ie: BestPictureAcademyAwards.csv, Top1000Actors.csv)**\n",
    "2. **The Movie Database API (information collected from IMDb)** <p>https://developers.themoviedb.org/3/getting-started/introduction </p>\n",
    "<p>Sample API calls: </p>\n",
    "3. **See BechdelTest.py** \n",
    " <p> Webscraping for Bechdel Rankings from: https://bechdeltest.com/. </p>\n"
   ]
  },
  {
   "cell_type": "markdown",
   "metadata": {},
   "source": [
    "## Data Format\n",
    "\n",
    "**Movie DataFrame** \n",
    "<p> \n",
    "\n",
    "\n",
    "| Fields       | Description                                |\n",
    "|--------------|--------------------------------------------|\n",
    "| ID           | unique IMDb id                             |\n",
    "| Title        | Movie title                                |\n",
    "| Cast         | List of tuples (actor name, rank in movie) |\n",
    "| Budget       | Movie budget                               |\n",
    "| Keywords     | List                                       |\n",
    "| Bechdel Pass | T/F                                        |\n",
    "| IMDb Rating  |                                            |\n",
    "| Runtime      |                                            |\n",
    "| Year         | Year of Release                            |\n",
    "| Genres       |                                            |\n",
    "| Num Votes    |                                            |\n",
    "| Release Date | Full release date                          |\n",
    "| Directors    |                                            |\n",
    "| Award Year   | Year of Award Nom.(1yr after release)      |\n",
    "| Winner       | 1 for winner, 0 for nomination             |\n",
    "\n",
    "</p>\n",
    "\n",
    "**Actor DataFrame** \n",
    "\n",
    "| Fields     |                                              |\n",
    "|------------|----------------------------------------------|\n",
    "| Actor name |                                              |\n",
    "| Gender     | 1 for female, 2 for male, 0 for undocumented |\n"
   ]
  },
  {
   "cell_type": "markdown",
   "metadata": {},
   "source": [
    "## Descriptive Statistics"
   ]
  },
  {
   "cell_type": "markdown",
   "metadata": {},
   "source": [
    "Running the following cell will construct all dataframes required. "
   ]
  },
  {
   "cell_type": "code",
   "execution_count": null,
   "metadata": {},
   "outputs": [],
   "source": [
    "import pandas as pd\n",
    "from movie_analysis import MovieAnalyzer\n",
    "\n",
    "## get dataframes\n",
    "result = MovieAnalyzer().make_dataframes()\n",
    "movies = result[0]\n",
    "actors = result[1]\n",
    "\n",
    "#print data frames\n",
    "movies.head()\n",
    "actors.head()"
   ]
  },
  {
   "cell_type": "markdown",
   "metadata": {},
   "source": [
    "## Data Analysis, Visualizations, and Insights"
   ]
  },
  {
   "cell_type": "markdown",
   "metadata": {},
   "source": [
    "### Some Preliminary Graphs... "
   ]
  },
  {
   "cell_type": "markdown",
   "metadata": {},
   "source": [
    "#### Analyzing Gender Over Time:"
   ]
  },
  {
   "cell_type": "code",
   "execution_count": 49,
   "metadata": {},
   "outputs": [
    {
     "name": "stdout",
     "output_type": "stream",
     "text": [
      "                                  Title  \\\n",
      "ID                                        \n",
      "tt0031210                  Dark Victory   \n",
      "tt0031381            Gone with the Wind   \n",
      "tt0031385            Goodbye, Mr. Chips   \n",
      "tt0031593                   Love Affair   \n",
      "tt0031679  Mr. Smith Goes to Washington   \n",
      "...                                 ...   \n",
      "tt6155172                          Roma   \n",
      "tt6266538                          Vice   \n",
      "tt6294822                      The Post   \n",
      "tt6966692                    Green Book   \n",
      "tt7349662                BlacKkKlansman   \n",
      "\n",
      "                                                        Cast    Budget  \\\n",
      "ID                                                                       \n",
      "tt0031210  [(Bette Davis, 1), (George Brent, 2), (Humphre...         0   \n",
      "tt0031381  [(Vivien Leigh, 10), (Clark Gable, 11), (Olivi...   4000000   \n",
      "tt0031385  [(Robert Donat, 1), (Greer Garson, 2), (Terry ...         0   \n",
      "tt0031593  [(Irene Dunne, 1), (Charles Boyer, 2), (Maria ...         0   \n",
      "tt0031679  [(James Stewart, 9), (Jean Arthur, 8), (Claude...   1500000   \n",
      "...                                                      ...       ...   \n",
      "tt6155172  [(Yalitza Aparicio, 4), (Marina de Tavira, 2),...  15000000   \n",
      "tt6266538  [(Christian Bale, 1), (Amy Adams, 2), (Steve C...  60000000   \n",
      "tt6294822  [(Meryl Streep, 1), (Tom Hanks, 0), (Bob Odenk...  50000000   \n",
      "tt6966692  [(Viggo Mortensen, 2), (Mahershala Ali, 1), (L...  23000000   \n",
      "tt7349662  [(John David Washington, 11), (Adam Driver, 6)...  15000000   \n",
      "\n",
      "                                                    Keywords Bechdel Pass  \\\n",
      "ID                                                                          \n",
      "tt0031210                                      [brain tumor]         True   \n",
      "tt0031381  [southern usa, loss of loved one, marriage pro...         True   \n",
      "tt0031385  [world war i, teacher, school, schoolteacher, ...        False   \n",
      "tt0031593  [artist, madeira, orphanage, playboy, love, si...          NaN   \n",
      "tt0031679  [washington d.c., senate, senator, sightseeing...        False   \n",
      "...                                                      ...          ...   \n",
      "tt6155172  [1970s, mexico city, middle class, family rela...         True   \n",
      "tt6266538  [washington d.c., the white house, war on terr...        False   \n",
      "tt6294822  [washington d.c., journalism, newspaper, 1970s...         True   \n",
      "tt6966692  [southern usa, friendship, racism, pianist, dr...        False   \n",
      "tt7349662  [ku klux klan, based on novel or book, biograp...         True   \n",
      "\n",
      "           IMDb Rating  Runtime (mins)  Year  \\\n",
      "ID                                             \n",
      "tt0031210          7.5             104  1939   \n",
      "tt0031381          8.1             238  1939   \n",
      "tt0031385          7.9             114  1939   \n",
      "tt0031593          7.3              88  1939   \n",
      "tt0031679          8.1             129  1939   \n",
      "...                ...             ...   ...   \n",
      "tt6155172          7.7             135  2018   \n",
      "tt6266538          7.2             132  2018   \n",
      "tt6294822          7.2             116  2017   \n",
      "tt6966692          8.2             130  2018   \n",
      "tt7349662          7.5             135  2018   \n",
      "\n",
      "                                        Genres  Num Votes Release Date  \\\n",
      "ID                                                                       \n",
      "tt0031210                       Drama, Romance       9421   1939-04-20   \n",
      "tt0031381         Drama, History, Romance, War     274948   1939-12-15   \n",
      "tt0031385                       Drama, Romance       9336   1939-05-15   \n",
      "tt0031593               Comedy, Drama, Romance       4081   1939-03-16   \n",
      "tt0031679                        Comedy, Drama     101886   1939-10-17   \n",
      "...                                        ...        ...          ...   \n",
      "tt6155172                                Drama     125880   2018-08-30   \n",
      "tt6266538             Biography, Comedy, Drama     103464   2018-12-12   \n",
      "tt6294822  Biography, Drama, History, Thriller     121690   2017-12-14   \n",
      "tt6966692      Biography, Comedy, Drama, Music     301898   2018-09-11   \n",
      "tt7349662              Biography, Crime, Drama     182306   2018-05-14   \n",
      "\n",
      "                                        Directors                      Award  \\\n",
      "ID                                                                             \n",
      "tt0031210                         Edmund Goulding  1940 Best Picture Nominee   \n",
      "tt0031381  Sam Wood, George Cukor, Victor Fleming   1940 Best Picture Winner   \n",
      "tt0031385               Sam Wood, Sidney Franklin  1940 Best Picture Nominee   \n",
      "tt0031593                             Leo McCarey  1940 Best Picture Nominee   \n",
      "tt0031679                             Frank Capra  1940 Best Picture Nominee   \n",
      "...                                           ...                        ...   \n",
      "tt6155172                          Alfonso Cuarón  2019 Best Picture Nominee   \n",
      "tt6266538                              Adam McKay  2019 Best Picture Nominee   \n",
      "tt6294822                        Steven Spielberg  2018 Best Picture Nominee   \n",
      "tt6966692                          Peter Farrelly   2019 Best Picture Winner   \n",
      "tt7349662                               Spike Lee  2019 Best Picture Nominee   \n",
      "\n",
      "           no_of_females  \n",
      "ID                        \n",
      "tt0031210             11  \n",
      "tt0031381             22  \n",
      "tt0031385              5  \n",
      "tt0031593              9  \n",
      "tt0031679             20  \n",
      "...                  ...  \n",
      "tt6155172              2  \n",
      "tt6266538             17  \n",
      "tt6294822             10  \n",
      "tt6966692              9  \n",
      "tt7349662              3  \n",
      "\n",
      "[464 rows x 14 columns]\n"
     ]
    }
   ],
   "source": [
    "import numpy as np\n",
    "import matplotlib.pyplot as plt\n",
    "#movies['no_of_females'] = movies.apply(lambda  row: [item[2] == \"F\" for item in row['Cast']]), axis=1)\n",
    "\n",
    "#function that iterates through cast list and counts females\n",
    "def count_females(cast_list):\n",
    "    female_count = 0\n",
    "    for item in cast_list: \n",
    "        act_ser = actors[actors['Name']==item[0]]\n",
    "        if act_ser[\"Gender\"].tolist()[0] == 1:\n",
    "            female_count += 1\n",
    "    return female_count\n",
    "#get number of female cast members per movie\n",
    "movies['no_of_females'] = movies.apply(lambda row: count_females(row['Cast']),axis=1)\n",
    "print (movies)"
   ]
  },
  {
   "cell_type": "markdown",
   "metadata": {},
   "source": [
    "#### Analyzing Topics of Films In Relation to Bechdel Scores:"
   ]
  },
  {
   "cell_type": "code",
   "execution_count": null,
   "metadata": {},
   "outputs": [],
   "source": [
    "from wordcloud import WordCloud, STOPWORDS, ImageColorGenerator\n",
    "\n",
    "\n",
    "# creates wordclouds of the keywords of films that pass the bechdel test and of films that don't\n",
    "def bechdel_keywords_cloud(df):\n",
    "    # divide full movie data into two data frames, one for films that pass the bechdel test, one for those that fail\n",
    "    # films with no bechdel scores are not included\n",
    "    bechdel_pass = df[df['Bechdel Pass'] == True] # all the films that pass the Bechdel test\n",
    "    bechdel_fail = df[df['Bechdel Pass'] == False] # all the films that fail the Bechdel test)\n",
    "    \n",
    "    pass_keywords = []\n",
    "    for row in bechdel_pass['Keywords']:\n",
    "        row = row[1:len(row)-1].replace(\"'\",\"\")\n",
    "        words = row.split(\", \")\n",
    "        for word in words:\n",
    "            pass_keywords.append(word)\n",
    "    pass_text = \" \".join(pass_keywords)\n",
    "\n",
    "    # generate a word cloud of keywords of all films that pass the Bechdel Test\n",
    "    pass_keyword_cloud = WordCloud(stopwords=stopwords, max_font_size=40, relative_scaling=1, max_words=400, background_color=\"white\", colormap='magma').generate(pass_text)\n",
    "    plt.imshow(pass_keyword_cloud, interpolation='bilinear')\n",
    "    plt.axis(\"off\")\n",
    "    plt.figure()\n",
    "\n",
    "    fail_keywords = []\n",
    "    for row in bechdel_fail['Keywords']:\n",
    "        row = row[1:len(row)-1].replace(\"'\",\"\")\n",
    "        words = row.split(\", \")\n",
    "        for word in words:\n",
    "            fail_keywords.append(word)\n",
    "    fail_text = \" \".join(fail_keywords)\n",
    "\n",
    "    # generate a word cloud of keywords of all films that fail the Bechdel Test\n",
    "    fail_keyword_cloud = WordCloud(stopwords=stopwords, max_font_size=30, max_words=400, background_color=\"white\", relative_scaling=1).generate(fail_text)\n",
    "    plt.imshow(fail_keyword_cloud, interpolation='bilinear')\n",
    "    plt.axis(\"off\")\n",
    "    plt.figure()\n",
    "\n",
    "    plt.show()\n",
    "\n",
    "bechdel_keywords_cloud(movies)\n"
   ]
  },
  {
   "cell_type": "markdown",
   "metadata": {},
   "source": [
    "#### Analyzing Film Genres in Relation to Bechdel Scores:"
   ]
  },
  {
   "cell_type": "code",
   "execution_count": null,
   "metadata": {},
   "outputs": [],
   "source": [
    "# creates freqency graphs for genres of films that pass the bechdel test and those that don't\n",
    "def bechdel_genre_graphs(bechdel_pass, bechdel_fail):\n",
    "    # divides full movie data into two data frames, one for films that pass the bechdel test, one for those that fail\n",
    "    # films with no bechdel scores are not included\n",
    "    bechdel_pass = df[df['Bechdel Pass'] == True] # all the films that pass the Bechdel test\n",
    "    bechdel_fail = df[df['Bechdel Pass'] == False] # all the films that fail the Bechdel test\n",
    "    \n",
    "    pass_genres = []\n",
    "    for row in bechdel_pass['Genres']:\n",
    "        genres = row.split(\", \")\n",
    "        for word in genres:\n",
    "            pass_genres.append(word)\n",
    "\n",
    "    pd.Series(pass_genres).value_counts().plot(kind='bar', colormap = 'plasma', title = 'Genres of Films that Pass the Bechdel Test')\n",
    "    plt.figure()\n",
    "\n",
    "\n",
    "    fail_genres = []\n",
    "    for row in bechdel_fail['Genres']:\n",
    "        genres = row.split(\", \")\n",
    "        for word in genres:\n",
    "            fail_genres.append(word)\n",
    "    pd.Series(fail_genres).value_counts().plot(kind='bar',colormap = 'viridis', title = 'Genres of Films that Fail the Bechdel Test')\n",
    "    plt.figure()\n",
    "    plt.show()\n",
    "    \n",
    "bechdel_genre_graphs(movies)"
   ]
  },
  {
   "cell_type": "markdown",
   "metadata": {},
   "source": [
    "## Future Plans"
   ]
  },
  {
   "cell_type": "markdown",
   "metadata": {},
   "source": [
    "## Sources and Acknowledgements "
   ]
  },
  {
   "cell_type": "code",
   "execution_count": null,
   "metadata": {},
   "outputs": [],
   "source": []
  }
 ],
 "metadata": {
  "kernelspec": {
   "display_name": "Python 3",
   "language": "python",
   "name": "python3"
  },
  "language_info": {
   "codemirror_mode": {
    "name": "ipython",
    "version": 3
   },
   "file_extension": ".py",
   "mimetype": "text/x-python",
   "name": "python",
   "nbconvert_exporter": "python",
   "pygments_lexer": "ipython3",
   "version": "3.7.4"
  }
 },
 "nbformat": 4,
 "nbformat_minor": 4
}
